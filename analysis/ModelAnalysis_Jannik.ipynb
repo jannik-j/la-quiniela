{
 "cells": [
  {
   "cell_type": "markdown",
   "metadata": {},
   "source": [
    "## Preparations"
   ]
  },
  {
   "cell_type": "code",
   "execution_count": 1,
   "metadata": {},
   "outputs": [],
   "source": [
    "import pandas as pd\n",
    "import numpy as np\n",
    "import matplotlib.pyplot as plt\n",
    "import sqlite3"
   ]
  },
  {
   "cell_type": "code",
   "execution_count": 2,
   "metadata": {},
   "outputs": [],
   "source": [
    "from sklearn.model_selection import train_test_split\n",
    "from sklearn.ensemble import GradientBoostingRegressor, GradientBoostingClassifier\n",
    "from sklearn.metrics import r2_score, mean_squared_error"
   ]
  },
  {
   "cell_type": "code",
   "execution_count": 3,
   "metadata": {},
   "outputs": [],
   "source": [
    "con = sqlite3.connect(\"../laliga.sqlite\")\n",
    "df = pd.read_sql_query(\"SELECT * from Matches\", con)"
   ]
  },
  {
   "cell_type": "code",
   "execution_count": 4,
   "metadata": {},
   "outputs": [],
   "source": [
    "def get_result(score: str):\n",
    "    if score is None:\n",
    "        return None\n",
    "    goals = list(map(int, score.split(':')))\n",
    "    if goals[0]>goals[1]:\n",
    "        return \"1\"\n",
    "    elif goals[1]>goals[0]:\n",
    "        return \"2\"\n",
    "    else:\n",
    "        return \"X\""
   ]
  },
  {
   "cell_type": "code",
   "execution_count": 5,
   "metadata": {},
   "outputs": [],
   "source": [
    "df['result'] = df['score'].apply(get_result)\n",
    "df['result'] = df['result'].map(str)"
   ]
  },
  {
   "cell_type": "code",
   "execution_count": 6,
   "metadata": {},
   "outputs": [],
   "source": [
    "# Function to compute the accuracy of a model\n",
    "def model_accuracy(y_test, y_pred):\n",
    "    return sum(y_test==y_pred)/len(y_test)"
   ]
  },
  {
   "cell_type": "markdown",
   "metadata": {},
   "source": [
    "We have to represent the result value by numbers, so it can be predicted by sklearn. For that, we use 1 for a home win, 0 for a tie and -1 for an away win. As the output value will most likely be a float, we can use the prediction value as the confidence of the prediction."
   ]
  },
  {
   "cell_type": "code",
   "execution_count": 7,
   "metadata": {},
   "outputs": [],
   "source": [
    "#df['result'] = df['result'].replace({'1': 1, 'X': 0, '2': -1})"
   ]
  },
  {
   "cell_type": "markdown",
   "metadata": {},
   "source": [
    "## Last 5 games and current rank"
   ]
  },
  {
   "cell_type": "markdown",
   "metadata": {},
   "source": [
    "First, we want to include the last 5 games and the rank of both teams before the game in question. For that, we use the standings table computed in the analysis exercises. \n",
    "\n",
    "For the last 5 games, we will produce a number representing a form of a team: A win gets the value 1, a loss the value 0 and a loss the value -1. These are then added up for the last 5 games. "
   ]
  },
  {
   "cell_type": "code",
   "execution_count": 8,
   "metadata": {},
   "outputs": [],
   "source": [
    "def get_form(last_5):\n",
    "    if last_5 != \"[]\":\n",
    "        last_5 = list(last_5)\n",
    "        form = 0\n",
    "        for result in last_5:\n",
    "            if result == \"W\":\n",
    "                form += 1\n",
    "            elif result == \"T\":\n",
    "                pass\n",
    "            elif result == \"L\":\n",
    "                form -= 1\n",
    "        return form\n",
    "    else:\n",
    "        return None"
   ]
  },
  {
   "cell_type": "code",
   "execution_count": 9,
   "metadata": {},
   "outputs": [
    {
     "data": {
      "text/html": [
       "<div>\n",
       "<style scoped>\n",
       "    .dataframe tbody tr th:only-of-type {\n",
       "        vertical-align: middle;\n",
       "    }\n",
       "\n",
       "    .dataframe tbody tr th {\n",
       "        vertical-align: top;\n",
       "    }\n",
       "\n",
       "    .dataframe thead th {\n",
       "        text-align: right;\n",
       "    }\n",
       "</style>\n",
       "<table border=\"1\" class=\"dataframe\">\n",
       "  <thead>\n",
       "    <tr style=\"text-align: right;\">\n",
       "      <th></th>\n",
       "      <th>season</th>\n",
       "      <th>division</th>\n",
       "      <th>matchday</th>\n",
       "      <th>rank</th>\n",
       "      <th>team</th>\n",
       "      <th>GF</th>\n",
       "      <th>GA</th>\n",
       "      <th>GD</th>\n",
       "      <th>W</th>\n",
       "      <th>L</th>\n",
       "      <th>T</th>\n",
       "      <th>Pts</th>\n",
       "      <th>last_5</th>\n",
       "      <th>form</th>\n",
       "    </tr>\n",
       "  </thead>\n",
       "  <tbody>\n",
       "    <tr>\n",
       "      <th>0</th>\n",
       "      <td>1928-1929</td>\n",
       "      <td>1</td>\n",
       "      <td>2</td>\n",
       "      <td>1</td>\n",
       "      <td>Real Madrid</td>\n",
       "      <td>5</td>\n",
       "      <td>0</td>\n",
       "      <td>5</td>\n",
       "      <td>1</td>\n",
       "      <td>0</td>\n",
       "      <td>0</td>\n",
       "      <td>3</td>\n",
       "      <td>['W']</td>\n",
       "      <td>1.0</td>\n",
       "    </tr>\n",
       "    <tr>\n",
       "      <th>1</th>\n",
       "      <td>1928-1929</td>\n",
       "      <td>1</td>\n",
       "      <td>2</td>\n",
       "      <td>2</td>\n",
       "      <td>Barcelona</td>\n",
       "      <td>2</td>\n",
       "      <td>0</td>\n",
       "      <td>2</td>\n",
       "      <td>1</td>\n",
       "      <td>0</td>\n",
       "      <td>0</td>\n",
       "      <td>3</td>\n",
       "      <td>['W']</td>\n",
       "      <td>1.0</td>\n",
       "    </tr>\n",
       "    <tr>\n",
       "      <th>2</th>\n",
       "      <td>1928-1929</td>\n",
       "      <td>1</td>\n",
       "      <td>2</td>\n",
       "      <td>3</td>\n",
       "      <td>Espanyol</td>\n",
       "      <td>3</td>\n",
       "      <td>2</td>\n",
       "      <td>1</td>\n",
       "      <td>1</td>\n",
       "      <td>0</td>\n",
       "      <td>0</td>\n",
       "      <td>3</td>\n",
       "      <td>['W']</td>\n",
       "      <td>1.0</td>\n",
       "    </tr>\n",
       "    <tr>\n",
       "      <th>3</th>\n",
       "      <td>1928-1929</td>\n",
       "      <td>1</td>\n",
       "      <td>2</td>\n",
       "      <td>4</td>\n",
       "      <td>Athletic Madrid</td>\n",
       "      <td>3</td>\n",
       "      <td>2</td>\n",
       "      <td>1</td>\n",
       "      <td>1</td>\n",
       "      <td>0</td>\n",
       "      <td>0</td>\n",
       "      <td>3</td>\n",
       "      <td>['W']</td>\n",
       "      <td>1.0</td>\n",
       "    </tr>\n",
       "    <tr>\n",
       "      <th>4</th>\n",
       "      <td>1928-1929</td>\n",
       "      <td>1</td>\n",
       "      <td>2</td>\n",
       "      <td>5</td>\n",
       "      <td>Donostia</td>\n",
       "      <td>1</td>\n",
       "      <td>1</td>\n",
       "      <td>0</td>\n",
       "      <td>0</td>\n",
       "      <td>0</td>\n",
       "      <td>1</td>\n",
       "      <td>1</td>\n",
       "      <td>['T']</td>\n",
       "      <td>0.0</td>\n",
       "    </tr>\n",
       "  </tbody>\n",
       "</table>\n",
       "</div>"
      ],
      "text/plain": [
       "      season  division  matchday  rank             team  GF  GA  GD  W  L  T  \\\n",
       "0  1928-1929         1         2     1      Real Madrid   5   0   5  1  0  0   \n",
       "1  1928-1929         1         2     2        Barcelona   2   0   2  1  0  0   \n",
       "2  1928-1929         1         2     3         Espanyol   3   2   1  1  0  0   \n",
       "3  1928-1929         1         2     4  Athletic Madrid   3   2   1  1  0  0   \n",
       "4  1928-1929         1         2     5         Donostia   1   1   0  0  0  1   \n",
       "\n",
       "   Pts last_5  form  \n",
       "0    3  ['W']   1.0  \n",
       "1    3  ['W']   1.0  \n",
       "2    3  ['W']   1.0  \n",
       "3    3  ['W']   1.0  \n",
       "4    1  ['T']   0.0  "
      ]
     },
     "execution_count": 9,
     "metadata": {},
     "output_type": "execute_result"
    }
   ],
   "source": [
    "df_standings = pd.read_excel('../reports/MatchdayStandings.xlsx', engine='openpyxl')\n",
    "df_standings['form'] = df_standings['last_5'].map(get_form)\n",
    "df_standings['matchday'] += 1\n",
    "df_standings.head()"
   ]
  },
  {
   "cell_type": "code",
   "execution_count": 10,
   "metadata": {},
   "outputs": [],
   "source": [
    "df_standings.rename(columns={'team': 'home_team'}, inplace=True)\n",
    "df = df.merge(df_standings[['season', 'division', 'matchday', 'rank', 'home_team', 'form']], left_on=['season', 'division', 'matchday', 'home_team'], right_on=['season', 'division', 'matchday', 'home_team'], how='left')\n",
    "df.rename(columns={'rank': 'rank_home', 'form': 'form_home'}, inplace=True)\n",
    "df_standings.rename(columns={'home_team': 'away_team'}, inplace=True)\n",
    "df = df.merge(df_standings[['season', 'division', 'matchday', 'rank', 'away_team', 'form']], left_on=['season', 'division', 'matchday', 'away_team'], right_on=['season', 'division', 'matchday', 'away_team'], how='left')\n",
    "df.rename(columns={'rank': 'rank_away', 'form': 'form_away'}, inplace=True)\n"
   ]
  },
  {
   "cell_type": "code",
   "execution_count": 11,
   "metadata": {},
   "outputs": [
    {
     "data": {
      "text/plain": [
       "Index(['season', 'division', 'matchday', 'date', 'time', 'home_team',\n",
       "       'away_team', 'score', 'result', 'rank_home', 'form_home', 'rank_away',\n",
       "       'form_away'],\n",
       "      dtype='object')"
      ]
     },
     "execution_count": 11,
     "metadata": {},
     "output_type": "execute_result"
    }
   ],
   "source": [
    "df.columns"
   ]
  },
  {
   "cell_type": "markdown",
   "metadata": {},
   "source": [
    "First, we train a Gradient Boosted regression model on the ranks and forms of both teams."
   ]
  },
  {
   "cell_type": "code",
   "execution_count": 12,
   "metadata": {},
   "outputs": [
    {
     "name": "stdout",
     "output_type": "stream",
     "text": [
      "(12964, 4)\n"
     ]
    }
   ],
   "source": [
    "gbm_hyperparams = {\n",
    "    'n_estimators': 100,\n",
    "    'max_depth': 10,\n",
    "    'learning_rate': 0.05,\n",
    "    'loss': 'deviance'\n",
    "}\n",
    "features = ['rank_home', 'form_home', 'rank_away', 'form_away']\n",
    "target = 'result'\n",
    "df_nona = df.dropna()\n",
    "X = df_nona[features]\n",
    "y = df_nona[target]\n",
    "X_train, X_test, y_train, y_test = train_test_split(X, y, test_size=0.2)\n",
    "print(X_train.shape)\n",
    "gbm_model = GradientBoostingClassifier(**gbm_hyperparams)\n",
    "gbm_model.fit(X_train, y_train)\n",
    "gbm_y_pred = gbm_model.predict(X_test)"
   ]
  },
  {
   "cell_type": "code",
   "execution_count": 13,
   "metadata": {},
   "outputs": [
    {
     "data": {
      "text/html": [
       "<div>\n",
       "<style scoped>\n",
       "    .dataframe tbody tr th:only-of-type {\n",
       "        vertical-align: middle;\n",
       "    }\n",
       "\n",
       "    .dataframe tbody tr th {\n",
       "        vertical-align: top;\n",
       "    }\n",
       "\n",
       "    .dataframe thead th {\n",
       "        text-align: right;\n",
       "    }\n",
       "</style>\n",
       "<table border=\"1\" class=\"dataframe\">\n",
       "  <thead>\n",
       "    <tr style=\"text-align: right;\">\n",
       "      <th></th>\n",
       "      <th>rank_home</th>\n",
       "      <th>form_home</th>\n",
       "      <th>rank_away</th>\n",
       "      <th>form_away</th>\n",
       "      <th>y_real</th>\n",
       "      <th>y_pred</th>\n",
       "    </tr>\n",
       "  </thead>\n",
       "  <tbody>\n",
       "    <tr>\n",
       "      <th>19932</th>\n",
       "      <td>11.0</td>\n",
       "      <td>1.0</td>\n",
       "      <td>13.0</td>\n",
       "      <td>3.0</td>\n",
       "      <td>1</td>\n",
       "      <td>2</td>\n",
       "    </tr>\n",
       "    <tr>\n",
       "      <th>20541</th>\n",
       "      <td>9.0</td>\n",
       "      <td>-1.0</td>\n",
       "      <td>13.0</td>\n",
       "      <td>-2.0</td>\n",
       "      <td>1</td>\n",
       "      <td>1</td>\n",
       "    </tr>\n",
       "    <tr>\n",
       "      <th>19756</th>\n",
       "      <td>5.0</td>\n",
       "      <td>0.0</td>\n",
       "      <td>6.0</td>\n",
       "      <td>3.0</td>\n",
       "      <td>1</td>\n",
       "      <td>1</td>\n",
       "    </tr>\n",
       "    <tr>\n",
       "      <th>46773</th>\n",
       "      <td>4.0</td>\n",
       "      <td>2.0</td>\n",
       "      <td>5.0</td>\n",
       "      <td>4.0</td>\n",
       "      <td>1</td>\n",
       "      <td>1</td>\n",
       "    </tr>\n",
       "    <tr>\n",
       "      <th>44236</th>\n",
       "      <td>13.0</td>\n",
       "      <td>1.0</td>\n",
       "      <td>7.0</td>\n",
       "      <td>3.0</td>\n",
       "      <td>1</td>\n",
       "      <td>1</td>\n",
       "    </tr>\n",
       "  </tbody>\n",
       "</table>\n",
       "</div>"
      ],
      "text/plain": [
       "       rank_home  form_home  rank_away  form_away y_real y_pred\n",
       "19932       11.0        1.0       13.0        3.0      1      2\n",
       "20541        9.0       -1.0       13.0       -2.0      1      1\n",
       "19756        5.0        0.0        6.0        3.0      1      1\n",
       "46773        4.0        2.0        5.0        4.0      1      1\n",
       "44236       13.0        1.0        7.0        3.0      1      1"
      ]
     },
     "execution_count": 13,
     "metadata": {},
     "output_type": "execute_result"
    }
   ],
   "source": [
    "results_df = X_test.copy()\n",
    "results_df[\"y_real\"] = y_test\n",
    "results_df[\"y_pred\"] = gbm_y_pred\n",
    "results_df.head()"
   ]
  },
  {
   "cell_type": "code",
   "execution_count": 14,
   "metadata": {},
   "outputs": [
    {
     "name": "stdout",
     "output_type": "stream",
     "text": [
      "Model accuracy: 0.42702869484726935\n"
     ]
    }
   ],
   "source": [
    "print(f\"Model accuracy: {model_accuracy(results_df['y_real'], results_df['y_pred'])}\")"
   ]
  },
  {
   "cell_type": "code",
   "execution_count": 15,
   "metadata": {},
   "outputs": [
    {
     "data": {
      "text/plain": [
       "rank_home    0.285115\n",
       "rank_away    0.278369\n",
       "form_home    0.226369\n",
       "form_away    0.210147\n",
       "dtype: float64"
      ]
     },
     "execution_count": 15,
     "metadata": {},
     "output_type": "execute_result"
    }
   ],
   "source": [
    "importances = pd.Series(gbm_model.feature_importances_, index=features)\n",
    "importances.sort_values(ascending=False)"
   ]
  },
  {
   "cell_type": "markdown",
   "metadata": {},
   "source": [
    "## Only difference of rank and form"
   ]
  },
  {
   "cell_type": "code",
   "execution_count": 16,
   "metadata": {},
   "outputs": [],
   "source": [
    "df['rank_diff'] = df['rank_home'] - df['rank_away']\n",
    "df['form_diff'] = df['form_home'] - df['form_away']"
   ]
  },
  {
   "cell_type": "code",
   "execution_count": 17,
   "metadata": {},
   "outputs": [
    {
     "name": "stdout",
     "output_type": "stream",
     "text": [
      "(12964, 2)\n",
      "Model accuracy: 0.4634372107374267\n"
     ]
    }
   ],
   "source": [
    "gbm_hyperparams = {\n",
    "    'n_estimators': 100,\n",
    "    'max_depth': 10,\n",
    "    'learning_rate': 0.005,\n",
    "    'loss': 'deviance'\n",
    "}\n",
    "features = ['rank_diff', 'form_diff']\n",
    "target = 'result'\n",
    "df_nona = df.dropna()\n",
    "X = df_nona[features]\n",
    "y = df_nona[target]\n",
    "X_train, X_test, y_train, y_test = train_test_split(X, y, test_size=0.2)\n",
    "print(X_train.shape)\n",
    "gbm_model_diff = GradientBoostingClassifier(**gbm_hyperparams)\n",
    "gbm_model_diff.fit(X_train, y_train)\n",
    "gbm_y_pred_diff = gbm_model_diff.predict(X_test)\n",
    "\n",
    "results_df_diff = X_test.copy()\n",
    "results_df_diff[\"y_real\"] = y_test\n",
    "results_df_diff[\"y_pred\"] = gbm_y_pred_diff\n",
    "results_df_diff[\"y_conf\"] = gbm_y_pred_diff\n",
    "print(f\"Model accuracy: {model_accuracy(results_df_diff['y_real'], results_df_diff['y_pred'])}\")\n",
    "# print(f\"RMSE: {mean_squared_error(y_test, gbm_y_pred_diff)**0.5}\")\n",
    "# print(f\"R^2: {r2_score(y_test, gbm_y_pred_diff)}\")"
   ]
  },
  {
   "cell_type": "markdown",
   "metadata": {},
   "source": [
    "This increases the model accuracy by a little bit."
   ]
  },
  {
   "cell_type": "markdown",
   "metadata": {},
   "source": [
    "## With GF/GA\n",
    "The next check will be to include the goals for and goals against the teams in the respective point of the season"
   ]
  },
  {
   "cell_type": "code",
   "execution_count": 18,
   "metadata": {},
   "outputs": [],
   "source": [
    "df_standings.rename(columns={'team': 'home_team', 'away_team': 'home_team'}, inplace=True)\n",
    "df = df.merge(df_standings[['season', 'division', 'matchday', 'home_team', 'GF', 'GA']], left_on=['season', 'division', 'matchday', 'home_team'], right_on=['season', 'division', 'matchday', 'home_team'], how='left')\n",
    "df.rename(columns={'GF': 'GF_home', 'GA': 'GA_home'}, inplace=True)\n",
    "df_standings.rename(columns={'home_team': 'away_team'}, inplace=True)\n",
    "df = df.merge(df_standings[['season', 'division', 'matchday', 'away_team', 'GF', 'GA']], left_on=['season', 'division', 'matchday', 'away_team'], right_on=['season', 'division', 'matchday', 'away_team'], how='left')\n",
    "df.rename(columns={'GF': 'GF_away', 'GA': 'GA_away'}, inplace=True)"
   ]
  },
  {
   "cell_type": "code",
   "execution_count": 19,
   "metadata": {},
   "outputs": [
    {
     "name": "stdout",
     "output_type": "stream",
     "text": [
      "(12964, 8)\n",
      "Model accuracy: 0.4794816414686825\n"
     ]
    }
   ],
   "source": [
    "gbm_hyperparams = {\n",
    "    'n_estimators': 100,\n",
    "    'max_depth': 10,\n",
    "    'learning_rate': 0.005,\n",
    "    'loss': 'deviance'\n",
    "}\n",
    "features = ['rank_home', 'form_home', 'rank_away', 'form_away', 'GF_home', 'GA_home', 'GF_away', 'GA_away']\n",
    "target = 'result'\n",
    "df_nona = df.dropna()\n",
    "X = df_nona[features]\n",
    "y = df_nona[target]\n",
    "X_train, X_test, y_train, y_test = train_test_split(X, y, test_size=0.2)\n",
    "print(X_train.shape)\n",
    "gbm_model_goals = GradientBoostingClassifier(**gbm_hyperparams)\n",
    "gbm_model_goals.fit(X_train, y_train)\n",
    "gbm_y_pred_goals = gbm_model_goals.predict(X_test)\n",
    "\n",
    "results_df_goals = X_test.copy()\n",
    "results_df_goals[\"y_real\"] = y_test\n",
    "results_df_goals[\"y_pred\"] = gbm_y_pred_goals\n",
    "print(f\"Model accuracy: {model_accuracy(results_df_goals['y_real'], results_df_goals['y_pred'])}\")"
   ]
  },
  {
   "cell_type": "markdown",
   "metadata": {},
   "source": [
    "## Goals scored and conceded in last 5 matches"
   ]
  },
  {
   "cell_type": "code",
   "execution_count": 20,
   "metadata": {},
   "outputs": [],
   "source": [
    "df_standings = pd.read_excel('../reports/MatchdayStandings.xlsx', engine='openpyxl')\n",
    "df_standings['form'] = df_standings['last_5'].map(get_form)"
   ]
  },
  {
   "cell_type": "code",
   "execution_count": 21,
   "metadata": {},
   "outputs": [],
   "source": [
    "def get_goals(score: str, home_away: int):\n",
    "    if score is None:\n",
    "        return None\n",
    "    goals = list(map(int, score.split(':')))\n",
    "    return goals[home_away]"
   ]
  },
  {
   "cell_type": "code",
   "execution_count": 22,
   "metadata": {},
   "outputs": [],
   "source": [
    "df['home_goals'] = df['score'].apply(get_goals, args=(0,))\n",
    "df['away_goals'] = df['score'].apply(get_goals, args=(1,))"
   ]
  },
  {
   "cell_type": "code",
   "execution_count": 23,
   "metadata": {},
   "outputs": [],
   "source": [
    "df_past = df[df['season']!='2021-2022'].copy()\n",
    "dfs = []\n",
    "for season in df_past['season'].drop_duplicates():\n",
    "    for division in df_past.loc[(df_past['season']==season), 'division'].drop_duplicates():\n",
    "        df_games = df_past.loc[(df_past['season']==season) & (df_past['division']==division)]\n",
    "        team = df_games['home_team'].drop_duplicates().rename('team')\n",
    "        init_data = [([], []) for _ in team]\n",
    "        df_goals = pd.DataFrame(init_data, columns=['last_5_goals_scored', 'last_5_goals_conceded'], index=team)\n",
    "        last_5_goals_scored = df_goals['last_5_goals_scored'].copy()\n",
    "        last_5_goals_conceded = df_goals['last_5_goals_conceded'].copy()\n",
    "        for matchday in df_games['matchday'].drop_duplicates():\n",
    "            df_standings_matchday = df_standings.loc[(df_standings['season']==season) & (df_standings['division']==division) & (df_standings['matchday']==matchday)].copy()\n",
    "            df_matchday = df_games.loc[df_games['matchday']==matchday]\n",
    "            last_5_goals_scored = df_goals['last_5_goals_scored'].apply(lambda x: x[:4])\n",
    "            last_5_goals_conceded = df_goals['last_5_goals_conceded'].apply(lambda x: x[:4])\n",
    "            for i in df_matchday.index:\n",
    "                game = df_matchday.loc[i, :]\n",
    "                last_5_goals_scored.loc[game['home_team']] = [game['home_goals']] + last_5_goals_scored.loc[game['home_team']]\n",
    "                last_5_goals_scored.loc[game['away_team']] = [game['away_goals']] + last_5_goals_scored.loc[game['away_team']]\n",
    "                last_5_goals_conceded.loc[game['home_team']] = [game['away_goals']] + last_5_goals_conceded.loc[game['home_team']]\n",
    "                last_5_goals_conceded.loc[game['away_team']] = [game['home_goals']] + last_5_goals_conceded.loc[game['away_team']]\n",
    "            df_goals['last_5_goals_scored'] = last_5_goals_scored\n",
    "            df_goals['last_5_goals_conceded'] = last_5_goals_conceded\n",
    "            df_goals.reset_index(drop=False, inplace=True)\n",
    "            df_standings_matchday = df_standings_matchday.merge(df_goals, left_on='team', right_on='team', how='left')\n",
    "            dfs.append(df_standings_matchday)\n",
    "            df_goals = df_goals.set_index('team', drop=True)\n",
    "df_standings = pd.concat(dfs, ignore_index=True)\n"
   ]
  },
  {
   "cell_type": "code",
   "execution_count": 24,
   "metadata": {},
   "outputs": [],
   "source": [
    "df_standings['matchday'] += 1"
   ]
  },
  {
   "cell_type": "code",
   "execution_count": 25,
   "metadata": {},
   "outputs": [],
   "source": [
    "df_standings.rename(columns={'team': 'home_team'}, inplace=True)\n",
    "df = df.merge(df_standings[['season', 'division', 'matchday', 'home_team', 'last_5_goals_scored', 'last_5_goals_conceded']], left_on=['season', 'division', 'matchday', 'home_team'], right_on=['season', 'division', 'matchday', 'home_team'], how='left')\n",
    "df.rename(columns={'last_5_goals_scored': 'l5_goals_scored_home', 'last_5_goals_conceded': 'l5_goals_conceded_home'}, inplace=True)\n",
    "df_standings.rename(columns={'home_team': 'away_team'}, inplace=True)\n",
    "df = df.merge(df_standings[['season', 'division', 'matchday', 'away_team', 'last_5_goals_scored', 'last_5_goals_conceded']], left_on=['season', 'division', 'matchday', 'away_team'], right_on=['season', 'division', 'matchday', 'away_team'], how='left')\n",
    "df.rename(columns={'last_5_goals_scored': 'l5_goals_scored_away', 'last_5_goals_conceded': 'l5_goals_conceded_away'}, inplace=True)"
   ]
  },
  {
   "cell_type": "code",
   "execution_count": 26,
   "metadata": {},
   "outputs": [],
   "source": [
    "def sum_last_goals(goals_list):\n",
    "    if isinstance(goals_list, list):\n",
    "        return sum(goals_list)\n",
    "    else:\n",
    "        return np.nan"
   ]
  },
  {
   "cell_type": "code",
   "execution_count": 27,
   "metadata": {},
   "outputs": [],
   "source": [
    "df[['l5_goals_scored_home', 'l5_goals_conceded_home', 'l5_goals_scored_away', 'l5_goals_conceded_away']] = df[['l5_goals_scored_home', 'l5_goals_conceded_home', 'l5_goals_scored_away', 'l5_goals_conceded_away']].applymap(sum_last_goals)\n"
   ]
  },
  {
   "cell_type": "code",
   "execution_count": 28,
   "metadata": {},
   "outputs": [
    {
     "name": "stdout",
     "output_type": "stream",
     "text": [
      "(12964, 8)\n",
      "Model accuracy: 0.4634372107374267\n"
     ]
    }
   ],
   "source": [
    "gbm_hyperparams = {\n",
    "    'n_estimators': 100,\n",
    "    'max_depth': 10,\n",
    "    'learning_rate': 0.01,\n",
    "    'loss': 'deviance'\n",
    "}\n",
    "features = ['rank_home', 'form_home', 'rank_away', 'form_away', 'l5_goals_scored_home', 'l5_goals_conceded_home', 'l5_goals_scored_away', 'l5_goals_conceded_away']\n",
    "#features = ['rank_diff', 'form_diff', 'l5_goals_scored_home', 'l5_goals_conceded_home', 'l5_goals_scored_away', 'l5_goals_conceded_away']\n",
    "target = 'result'\n",
    "df_nona = df.dropna()\n",
    "X = df_nona[features]\n",
    "y = df_nona[target]\n",
    "X_train, X_test, y_train, y_test = train_test_split(X, y, test_size=0.2)\n",
    "print(X_train.shape)\n",
    "gbm_model_l5goals = GradientBoostingClassifier(**gbm_hyperparams)\n",
    "gbm_model_l5goals.fit(X_train, y_train)\n",
    "gbm_y_pred_l5goals = gbm_model_l5goals.predict(X_test)\n",
    "\n",
    "results_df_l5goals = X_test.copy()\n",
    "results_df_l5goals[\"y_real\"] = y_test\n",
    "results_df_l5goals[\"y_pred\"] = gbm_y_pred_l5goals\n",
    "print(f\"Model accuracy: {model_accuracy(results_df_l5goals['y_real'], results_df_l5goals['y_pred'])}\")"
   ]
  },
  {
   "cell_type": "code",
   "execution_count": 29,
   "metadata": {},
   "outputs": [
    {
     "data": {
      "text/plain": [
       "rank_home                 0.167082\n",
       "rank_away                 0.166079\n",
       "l5_goals_scored_away      0.131823\n",
       "l5_goals_conceded_home    0.125621\n",
       "l5_goals_scored_home      0.121078\n",
       "l5_goals_conceded_away    0.119641\n",
       "form_home                 0.086445\n",
       "form_away                 0.082231\n",
       "dtype: float64"
      ]
     },
     "execution_count": 29,
     "metadata": {},
     "output_type": "execute_result"
    }
   ],
   "source": [
    "importances = pd.Series(gbm_model_l5goals.feature_importances_, index=features)\n",
    "importances.sort_values(ascending=False)"
   ]
  },
  {
   "cell_type": "markdown",
   "metadata": {},
   "source": [
    "## Only difference with GF/GA"
   ]
  },
  {
   "cell_type": "code",
   "execution_count": 30,
   "metadata": {},
   "outputs": [],
   "source": [
    "df['GF_diff'] = df['GF_home'] - df['GF_away']\n",
    "df['GA_diff'] = df['GA_home'] - df['GA_away']"
   ]
  },
  {
   "cell_type": "code",
   "execution_count": 31,
   "metadata": {},
   "outputs": [
    {
     "name": "stdout",
     "output_type": "stream",
     "text": [
      "(12964, 4)\n",
      "Model accuracy: 0.46436285097192226\n"
     ]
    }
   ],
   "source": [
    "gbm_hyperparams = {\n",
    "    'n_estimators': 100,\n",
    "    'max_depth': 10,\n",
    "    'learning_rate': 0.01,\n",
    "    'loss': 'deviance'\n",
    "}\n",
    "features = ['rank_diff', 'form_diff', 'GF_diff', 'GA_diff']\n",
    "target = 'result'\n",
    "df_nona = df.dropna()\n",
    "X = df_nona[features]\n",
    "y = df_nona[target]\n",
    "X_train, X_test, y_train, y_test = train_test_split(X, y, test_size=0.2)\n",
    "print(X_train.shape)\n",
    "gbm_model_goals_diff = GradientBoostingClassifier(**gbm_hyperparams)\n",
    "gbm_model_goals_diff.fit(X_train, y_train)\n",
    "gbm_y_pred_goals_diff = gbm_model_goals_diff.predict(X_test)\n",
    "\n",
    "results_df_goals_diff = X_test.copy()\n",
    "results_df_goals_diff[\"y_real\"] = y_test\n",
    "results_df_goals_diff[\"y_pred\"] = gbm_y_pred_goals_diff\n",
    "print(f\"Model accuracy: {model_accuracy(results_df_goals_diff['y_real'], results_df_goals_diff['y_pred'])}\")"
   ]
  },
  {
   "cell_type": "markdown",
   "metadata": {},
   "source": [
    "## Only difference with goals in last 5 matches"
   ]
  },
  {
   "cell_type": "code",
   "execution_count": 32,
   "metadata": {},
   "outputs": [],
   "source": [
    "df['l5_goals_scored_diff'] = df['l5_goals_scored_home'] - df['l5_goals_scored_away']\n",
    "df['l5_goals_conceded_diff'] = df['l5_goals_conceded_home'] - df['l5_goals_conceded_away']"
   ]
  },
  {
   "cell_type": "code",
   "execution_count": 33,
   "metadata": {},
   "outputs": [
    {
     "name": "stdout",
     "output_type": "stream",
     "text": [
      "(12964, 6)\n",
      "Model accuracy: 0.4581919160752854\n"
     ]
    }
   ],
   "source": [
    "gbm_hyperparams = {\n",
    "    'n_estimators': 100,\n",
    "    'max_depth': 10,\n",
    "    'learning_rate': 0.01,\n",
    "    'loss': 'deviance'\n",
    "}\n",
    "features = ['rank_diff', 'form_diff', 'l5_goals_scored_diff', 'l5_goals_conceded_diff', 'GF_diff', 'GA_diff']\n",
    "target = 'result'\n",
    "df_nona = df.dropna()\n",
    "X = df_nona[features]\n",
    "y = df_nona[target]\n",
    "X_train, X_test, y_train, y_test = train_test_split(X, y, test_size=0.2)\n",
    "print(X_train.shape)\n",
    "gbm_model_l5goals_diff = GradientBoostingClassifier(**gbm_hyperparams)\n",
    "gbm_model_l5goals_diff.fit(X_train, y_train)\n",
    "gbm_y_pred_l5goals_diff = gbm_model_l5goals_diff.predict(X_test)\n",
    "\n",
    "results_df_l5goals_diff = X_test.copy()\n",
    "results_df_l5goals_diff[\"y_real\"] = y_test\n",
    "results_df_l5goals_diff[\"y_pred\"] = gbm_y_pred_l5goals_diff\n",
    "print(f\"Model accuracy: {model_accuracy(results_df_l5goals_diff['y_real'], results_df_l5goals_diff['y_pred'])}\")"
   ]
  },
  {
   "cell_type": "code",
   "execution_count": 34,
   "metadata": {},
   "outputs": [
    {
     "data": {
      "text/plain": [
       "GF_diff                   0.234492\n",
       "rank_diff                 0.212704\n",
       "GA_diff                   0.181593\n",
       "l5_goals_scored_diff      0.138275\n",
       "l5_goals_conceded_diff    0.128383\n",
       "form_diff                 0.104554\n",
       "dtype: float64"
      ]
     },
     "execution_count": 34,
     "metadata": {},
     "output_type": "execute_result"
    }
   ],
   "source": [
    "importances = pd.Series(gbm_model_l5goals_diff.feature_importances_, index=features)\n",
    "importances.sort_values(ascending=False)"
   ]
  },
  {
   "cell_type": "markdown",
   "metadata": {},
   "source": [
    "We get very similar accuracies for the models with the different features."
   ]
  },
  {
   "cell_type": "markdown",
   "metadata": {},
   "source": [
    "## Include Rank of last season\n",
    "We now also want to use the rank of last season, mainly to have something to use for the first matchday. All other features we used until now don't have data on the first matchday"
   ]
  },
  {
   "cell_type": "code",
   "execution_count": null,
   "metadata": {},
   "outputs": [],
   "source": []
  },
  {
   "cell_type": "markdown",
   "metadata": {},
   "source": [
    "## Random Forest"
   ]
  },
  {
   "cell_type": "code",
   "execution_count": 35,
   "metadata": {},
   "outputs": [],
   "source": [
    "from sklearn.ensemble import RandomForestClassifier"
   ]
  },
  {
   "cell_type": "code",
   "execution_count": 36,
   "metadata": {},
   "outputs": [
    {
     "name": "stdout",
     "output_type": "stream",
     "text": [
      "(12964, 2)\n",
      "Model accuracy: 0.44955260721999385\n"
     ]
    }
   ],
   "source": [
    "rforest_hyperparams = {\n",
    "    'n_estimators': 500,\n",
    "}\n",
    "#features = ['rank_diff', 'form_diff', 'l5_goals_scored_diff', 'l5_goals_conceded_diff', 'GF_diff', 'GA_diff']\n",
    "features = ['rank_diff', 'form_diff']\n",
    "target = 'result'\n",
    "df_nona = df.dropna()\n",
    "X = df_nona[features]\n",
    "y = df_nona[target]\n",
    "X_train, X_test, y_train, y_test = train_test_split(X, y, test_size=0.2)\n",
    "print(X_train.shape)\n",
    "rforest_model_l5goals_diff = RandomForestClassifier(**rforest_hyperparams)\n",
    "rforest_model_l5goals_diff.fit(X_train, y_train)\n",
    "rforest_y_pred_l5goals_diff = rforest_model_l5goals_diff.predict(X_test)\n",
    "\n",
    "results_df_l5goals_diff = X_test.copy()\n",
    "results_df_l5goals_diff[\"y_real\"] = y_test\n",
    "results_df_l5goals_diff[\"y_pred\"] = rforest_y_pred_l5goals_diff\n",
    "print(f\"Model accuracy: {model_accuracy(results_df_l5goals_diff['y_real'], results_df_l5goals_diff['y_pred'])}\")"
   ]
  }
 ],
 "metadata": {
  "interpreter": {
   "hash": "5db7cb45de2fae031819628b6083a7f9eedb36f337bc3654294b4af92d26dacc"
  },
  "kernelspec": {
   "display_name": "Python 3.9.7 64-bit ('.venv': venv)",
   "language": "python",
   "name": "python3"
  },
  "language_info": {
   "codemirror_mode": {
    "name": "ipython",
    "version": 3
   },
   "file_extension": ".py",
   "mimetype": "text/x-python",
   "name": "python",
   "nbconvert_exporter": "python",
   "pygments_lexer": "ipython3",
   "version": "3.9.7"
  },
  "orig_nbformat": 4
 },
 "nbformat": 4,
 "nbformat_minor": 2
}
