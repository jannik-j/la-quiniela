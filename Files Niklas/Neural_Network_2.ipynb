{
 "cells": [
  {
   "cell_type": "code",
   "execution_count": 1,
   "id": "69e599ad",
   "metadata": {},
   "outputs": [],
   "source": [
    "import numpy as np\n",
    "import pandas as pd\n",
    "import matplotlib.pyplot as plt"
   ]
  },
  {
   "cell_type": "code",
   "execution_count": 2,
   "id": "a47d21d0",
   "metadata": {},
   "outputs": [],
   "source": [
    "df = pd.read_csv('features_new.csv')"
   ]
  },
  {
   "cell_type": "code",
   "execution_count": 150,
   "id": "38469269",
   "metadata": {},
   "outputs": [],
   "source": [
    "df_final_2 = df[['season','matchday','result','home_rank','away_rank','home_form','away_form','home_GF_pg',\n",
    "              'home_GA_pg','away_GF_pg','away_GA_pg','home_rank_HT','away_rank_AT','last_conf']]\n",
    "df_final = df_final_2[(df_final_2.matchday > 20) & (df_final_2.season > 1930)]"
   ]
  },
  {
   "cell_type": "code",
   "execution_count": 151,
   "id": "bd52dc8f",
   "metadata": {},
   "outputs": [],
   "source": [
    "X = df_final[['season','matchday','home_rank','away_rank','home_form','away_form','home_GF_pg',\n",
    "              'home_GA_pg','away_GF_pg','away_GA_pg','home_rank_HT','away_rank_AT','last_conf']]\n",
    "y = df_final['result']"
   ]
  },
  {
   "cell_type": "code",
   "execution_count": 152,
   "id": "07167103",
   "metadata": {},
   "outputs": [
    {
     "data": {
      "text/html": [
       "<div>\n",
       "<style scoped>\n",
       "    .dataframe tbody tr th:only-of-type {\n",
       "        vertical-align: middle;\n",
       "    }\n",
       "\n",
       "    .dataframe tbody tr th {\n",
       "        vertical-align: top;\n",
       "    }\n",
       "\n",
       "    .dataframe thead th {\n",
       "        text-align: right;\n",
       "    }\n",
       "</style>\n",
       "<table border=\"1\" class=\"dataframe\">\n",
       "  <thead>\n",
       "    <tr style=\"text-align: right;\">\n",
       "      <th></th>\n",
       "      <th>season</th>\n",
       "      <th>matchday</th>\n",
       "      <th>home_rank</th>\n",
       "      <th>away_rank</th>\n",
       "      <th>home_form</th>\n",
       "      <th>away_form</th>\n",
       "      <th>home_GF_pg</th>\n",
       "      <th>home_GA_pg</th>\n",
       "      <th>away_GF_pg</th>\n",
       "      <th>away_GA_pg</th>\n",
       "      <th>home_rank_HT</th>\n",
       "      <th>away_rank_AT</th>\n",
       "      <th>last_conf</th>\n",
       "    </tr>\n",
       "  </thead>\n",
       "  <tbody>\n",
       "    <tr>\n",
       "      <th>660</th>\n",
       "      <td>1934</td>\n",
       "      <td>21</td>\n",
       "      <td>6</td>\n",
       "      <td>1</td>\n",
       "      <td>0</td>\n",
       "      <td>5</td>\n",
       "      <td>2.450000</td>\n",
       "      <td>2.150000</td>\n",
       "      <td>2.750000</td>\n",
       "      <td>1.400000</td>\n",
       "      <td>8</td>\n",
       "      <td>1</td>\n",
       "      <td>-1</td>\n",
       "    </tr>\n",
       "    <tr>\n",
       "      <th>661</th>\n",
       "      <td>1934</td>\n",
       "      <td>21</td>\n",
       "      <td>8</td>\n",
       "      <td>9</td>\n",
       "      <td>-1</td>\n",
       "      <td>0</td>\n",
       "      <td>1.650000</td>\n",
       "      <td>1.900000</td>\n",
       "      <td>2.100000</td>\n",
       "      <td>2.600000</td>\n",
       "      <td>7</td>\n",
       "      <td>4</td>\n",
       "      <td>2</td>\n",
       "    </tr>\n",
       "    <tr>\n",
       "      <th>662</th>\n",
       "      <td>1934</td>\n",
       "      <td>21</td>\n",
       "      <td>3</td>\n",
       "      <td>7</td>\n",
       "      <td>3</td>\n",
       "      <td>-1</td>\n",
       "      <td>2.700000</td>\n",
       "      <td>2.000000</td>\n",
       "      <td>1.750000</td>\n",
       "      <td>2.200000</td>\n",
       "      <td>4</td>\n",
       "      <td>10</td>\n",
       "      <td>1</td>\n",
       "    </tr>\n",
       "    <tr>\n",
       "      <th>663</th>\n",
       "      <td>1934</td>\n",
       "      <td>21</td>\n",
       "      <td>2</td>\n",
       "      <td>4</td>\n",
       "      <td>4</td>\n",
       "      <td>1</td>\n",
       "      <td>1.800000</td>\n",
       "      <td>0.850000</td>\n",
       "      <td>2.200000</td>\n",
       "      <td>1.700000</td>\n",
       "      <td>1</td>\n",
       "      <td>7</td>\n",
       "      <td>0</td>\n",
       "    </tr>\n",
       "    <tr>\n",
       "      <th>664</th>\n",
       "      <td>1934</td>\n",
       "      <td>21</td>\n",
       "      <td>12</td>\n",
       "      <td>10</td>\n",
       "      <td>-5</td>\n",
       "      <td>-1</td>\n",
       "      <td>0.800000</td>\n",
       "      <td>2.450000</td>\n",
       "      <td>1.800000</td>\n",
       "      <td>2.050000</td>\n",
       "      <td>12</td>\n",
       "      <td>9</td>\n",
       "      <td>3</td>\n",
       "    </tr>\n",
       "    <tr>\n",
       "      <th>...</th>\n",
       "      <td>...</td>\n",
       "      <td>...</td>\n",
       "      <td>...</td>\n",
       "      <td>...</td>\n",
       "      <td>...</td>\n",
       "      <td>...</td>\n",
       "      <td>...</td>\n",
       "      <td>...</td>\n",
       "      <td>...</td>\n",
       "      <td>...</td>\n",
       "      <td>...</td>\n",
       "      <td>...</td>\n",
       "      <td>...</td>\n",
       "    </tr>\n",
       "    <tr>\n",
       "      <th>48173</th>\n",
       "      <td>2020</td>\n",
       "      <td>42</td>\n",
       "      <td>9</td>\n",
       "      <td>20</td>\n",
       "      <td>-1</td>\n",
       "      <td>-1</td>\n",
       "      <td>0.926829</td>\n",
       "      <td>0.951220</td>\n",
       "      <td>0.926829</td>\n",
       "      <td>1.170732</td>\n",
       "      <td>15</td>\n",
       "      <td>14</td>\n",
       "      <td>1</td>\n",
       "    </tr>\n",
       "    <tr>\n",
       "      <th>48174</th>\n",
       "      <td>2020</td>\n",
       "      <td>42</td>\n",
       "      <td>8</td>\n",
       "      <td>2</td>\n",
       "      <td>-3</td>\n",
       "      <td>4</td>\n",
       "      <td>1.048780</td>\n",
       "      <td>1.170732</td>\n",
       "      <td>1.268293</td>\n",
       "      <td>0.634146</td>\n",
       "      <td>11</td>\n",
       "      <td>1</td>\n",
       "      <td>1</td>\n",
       "    </tr>\n",
       "    <tr>\n",
       "      <th>48175</th>\n",
       "      <td>2020</td>\n",
       "      <td>42</td>\n",
       "      <td>6</td>\n",
       "      <td>18</td>\n",
       "      <td>2</td>\n",
       "      <td>1</td>\n",
       "      <td>1.268293</td>\n",
       "      <td>0.951220</td>\n",
       "      <td>0.902439</td>\n",
       "      <td>1.292683</td>\n",
       "      <td>8</td>\n",
       "      <td>22</td>\n",
       "      <td>3</td>\n",
       "    </tr>\n",
       "    <tr>\n",
       "      <th>48176</th>\n",
       "      <td>2020</td>\n",
       "      <td>42</td>\n",
       "      <td>14</td>\n",
       "      <td>4</td>\n",
       "      <td>1</td>\n",
       "      <td>2</td>\n",
       "      <td>0.902439</td>\n",
       "      <td>0.926829</td>\n",
       "      <td>1.121951</td>\n",
       "      <td>0.780488</td>\n",
       "      <td>9</td>\n",
       "      <td>11</td>\n",
       "      <td>2</td>\n",
       "    </tr>\n",
       "    <tr>\n",
       "      <th>48177</th>\n",
       "      <td>2020</td>\n",
       "      <td>42</td>\n",
       "      <td>7</td>\n",
       "      <td>3</td>\n",
       "      <td>1</td>\n",
       "      <td>1</td>\n",
       "      <td>0.902439</td>\n",
       "      <td>0.634146</td>\n",
       "      <td>1.439024</td>\n",
       "      <td>0.975610</td>\n",
       "      <td>4</td>\n",
       "      <td>3</td>\n",
       "      <td>3</td>\n",
       "    </tr>\n",
       "  </tbody>\n",
       "</table>\n",
       "<p>20916 rows × 13 columns</p>\n",
       "</div>"
      ],
      "text/plain": [
       "       season  matchday  home_rank  away_rank  home_form  away_form  \\\n",
       "660      1934        21          6          1          0          5   \n",
       "661      1934        21          8          9         -1          0   \n",
       "662      1934        21          3          7          3         -1   \n",
       "663      1934        21          2          4          4          1   \n",
       "664      1934        21         12         10         -5         -1   \n",
       "...       ...       ...        ...        ...        ...        ...   \n",
       "48173    2020        42          9         20         -1         -1   \n",
       "48174    2020        42          8          2         -3          4   \n",
       "48175    2020        42          6         18          2          1   \n",
       "48176    2020        42         14          4          1          2   \n",
       "48177    2020        42          7          3          1          1   \n",
       "\n",
       "       home_GF_pg  home_GA_pg  away_GF_pg  away_GA_pg  home_rank_HT  \\\n",
       "660      2.450000    2.150000    2.750000    1.400000             8   \n",
       "661      1.650000    1.900000    2.100000    2.600000             7   \n",
       "662      2.700000    2.000000    1.750000    2.200000             4   \n",
       "663      1.800000    0.850000    2.200000    1.700000             1   \n",
       "664      0.800000    2.450000    1.800000    2.050000            12   \n",
       "...           ...         ...         ...         ...           ...   \n",
       "48173    0.926829    0.951220    0.926829    1.170732            15   \n",
       "48174    1.048780    1.170732    1.268293    0.634146            11   \n",
       "48175    1.268293    0.951220    0.902439    1.292683             8   \n",
       "48176    0.902439    0.926829    1.121951    0.780488             9   \n",
       "48177    0.902439    0.634146    1.439024    0.975610             4   \n",
       "\n",
       "       away_rank_AT  last_conf  \n",
       "660               1         -1  \n",
       "661               4          2  \n",
       "662              10          1  \n",
       "663               7          0  \n",
       "664               9          3  \n",
       "...             ...        ...  \n",
       "48173            14          1  \n",
       "48174             1          1  \n",
       "48175            22          3  \n",
       "48176            11          2  \n",
       "48177             3          3  \n",
       "\n",
       "[20916 rows x 13 columns]"
      ]
     },
     "execution_count": 152,
     "metadata": {},
     "output_type": "execute_result"
    }
   ],
   "source": [
    "X"
   ]
  },
  {
   "cell_type": "code",
   "execution_count": 153,
   "id": "d068651c",
   "metadata": {},
   "outputs": [],
   "source": [
    "from keras.layers import Dense\n",
    "from keras.utils.np_utils import to_categorical\n",
    "from keras.models import Sequential\n",
    "from sklearn.preprocessing import StandardScaler\n",
    "from sklearn.model_selection import train_test_split\n"
   ]
  },
  {
   "cell_type": "code",
   "execution_count": 154,
   "id": "aaa92228",
   "metadata": {},
   "outputs": [],
   "source": [
    "from sklearn.metrics import accuracy_score"
   ]
  },
  {
   "cell_type": "code",
   "execution_count": 155,
   "id": "df8fb0ef",
   "metadata": {},
   "outputs": [],
   "source": [
    "scaler = StandardScaler()\n",
    "scaler.fit(X)\n",
    "X_scaled = scaler.transform(X)\n",
    "\n",
    "X_train,X_test,y_train,y_test = train_test_split(X_scaled,y, test_size = 0.3,\n",
    "                                                random_state = 20, stratify = y)"
   ]
  },
  {
   "cell_type": "code",
   "execution_count": 156,
   "id": "f66db68d",
   "metadata": {},
   "outputs": [],
   "source": [
    "targets_a = pd.get_dummies(y_train)\n",
    "targets_train = targets_a.values\n",
    "targets_b = pd.get_dummies(y_test)\n",
    "targets_test = targets_b.values"
   ]
  },
  {
   "cell_type": "code",
   "execution_count": 157,
   "id": "23e3a260",
   "metadata": {},
   "outputs": [],
   "source": [
    "n_cols = X_train.shape[1]"
   ]
  },
  {
   "cell_type": "code",
   "execution_count": 158,
   "id": "158b7189",
   "metadata": {},
   "outputs": [],
   "source": [
    "from keras.callbacks import EarlyStopping\n",
    "\n",
    "early_stopping_monitor = EarlyStopping(patience = 4)"
   ]
  },
  {
   "cell_type": "code",
   "execution_count": 159,
   "id": "20e683a0",
   "metadata": {},
   "outputs": [
    {
     "name": "stdout",
     "output_type": "stream",
     "text": [
      "Epoch 1/30\n",
      "321/321 [==============================] - 2s 4ms/step - loss: 0.9926 - accuracy: 0.5271 - val_loss: 0.9948 - val_accuracy: 0.5231\n",
      "Epoch 2/30\n",
      "321/321 [==============================] - 1s 3ms/step - loss: 0.9794 - accuracy: 0.5323 - val_loss: 0.9896 - val_accuracy: 0.5277\n",
      "Epoch 3/30\n",
      "321/321 [==============================] - 1s 3ms/step - loss: 0.9749 - accuracy: 0.5376 - val_loss: 0.9911 - val_accuracy: 0.5286\n",
      "Epoch 4/30\n",
      "321/321 [==============================] - 1s 4ms/step - loss: 0.9722 - accuracy: 0.5393 - val_loss: 0.9892 - val_accuracy: 0.5290\n",
      "Epoch 5/30\n",
      "321/321 [==============================] - 1s 4ms/step - loss: 0.9705 - accuracy: 0.5401 - val_loss: 0.9892 - val_accuracy: 0.5315\n",
      "Epoch 6/30\n",
      "321/321 [==============================] - 1s 4ms/step - loss: 0.9693 - accuracy: 0.5374 - val_loss: 0.9929 - val_accuracy: 0.5240\n",
      "Epoch 7/30\n",
      "321/321 [==============================] - 1s 3ms/step - loss: 0.9686 - accuracy: 0.5374 - val_loss: 0.9919 - val_accuracy: 0.5299\n",
      "Epoch 8/30\n",
      "321/321 [==============================] - 1s 3ms/step - loss: 0.9675 - accuracy: 0.5388 - val_loss: 0.9906 - val_accuracy: 0.5313\n"
     ]
    },
    {
     "data": {
      "text/plain": [
       "<keras.callbacks.History at 0x1708538d250>"
      ]
     },
     "execution_count": 159,
     "metadata": {},
     "output_type": "execute_result"
    }
   ],
   "source": [
    "model = Sequential()\n",
    "model.add(Dense(100,activation = 'relu', input_shape = (n_cols , )))\n",
    "#model.add(Dense(100, activation = 'relu'))\n",
    "#model.add(Dense(10,activation = 'relu'))\n",
    "#model.add(Dense(10,activation = 'sigmoid'))\n",
    "#model.add(Dense(10, activation = 'relu'))\n",
    "#model.add(Dense(100, activation = 'relu'))\n",
    "#model.add(Dense(100,activation = 'relu'))\n",
    "#model.add(Dense(100,activation = 'relu'))\n",
    "#model.add(Dense(100, activation = 'relu'))\n",
    "#callbacks = [early_stopping_monitor]\n",
    "model.add(Dense(3,activation = 'softmax'))\n",
    "model.compile(optimizer = 'adam', loss = 'categorical_crossentropy', metrics = ['accuracy'])\n",
    "model.fit(X_train, targets_train, validation_split = 0.3, epochs = 30, callbacks = [early_stopping_monitor])"
   ]
  },
  {
   "cell_type": "code",
   "execution_count": 160,
   "id": "3120be76",
   "metadata": {},
   "outputs": [],
   "source": [
    "pred = model.predict(X_test)\n",
    "val = pd.DataFrame(pred)"
   ]
  },
  {
   "cell_type": "code",
   "execution_count": 161,
   "id": "a5b9eb11",
   "metadata": {},
   "outputs": [],
   "source": [
    "def evaluate_probs(row):\n",
    "    if row.iloc[0] == max(row.iloc[:]):\n",
    "        return '1'\n",
    "    if row.iloc[1] == max(row.iloc[:]):\n",
    "        return '2'\n",
    "    else:\n",
    "        return 'X'"
   ]
  },
  {
   "cell_type": "code",
   "execution_count": 162,
   "id": "751bc0a3",
   "metadata": {},
   "outputs": [],
   "source": [
    "val['pred'] = val.apply(evaluate_probs,axis = 1)\n",
    "pred_final = val['pred']"
   ]
  },
  {
   "cell_type": "code",
   "execution_count": 163,
   "id": "08032740",
   "metadata": {},
   "outputs": [
    {
     "data": {
      "text/plain": [
       "1    5557\n",
       "2     684\n",
       "X      34\n",
       "Name: pred, dtype: int64"
      ]
     },
     "execution_count": 163,
     "metadata": {},
     "output_type": "execute_result"
    }
   ],
   "source": [
    "pred_final.value_counts()"
   ]
  },
  {
   "cell_type": "code",
   "execution_count": 164,
   "id": "50efe8b6",
   "metadata": {},
   "outputs": [
    {
     "data": {
      "text/plain": [
       "0.5311553784860558"
      ]
     },
     "execution_count": 164,
     "metadata": {},
     "output_type": "execute_result"
    }
   ],
   "source": [
    "accuracy_score(y_test, pred_final)"
   ]
  },
  {
   "cell_type": "code",
   "execution_count": null,
   "id": "0fe83067",
   "metadata": {},
   "outputs": [],
   "source": []
  }
 ],
 "metadata": {
  "kernelspec": {
   "display_name": "Python 3 (ipykernel)",
   "language": "python",
   "name": "python3"
  },
  "language_info": {
   "codemirror_mode": {
    "name": "ipython",
    "version": 3
   },
   "file_extension": ".py",
   "mimetype": "text/x-python",
   "name": "python",
   "nbconvert_exporter": "python",
   "pygments_lexer": "ipython3",
   "version": "3.8.10"
  }
 },
 "nbformat": 4,
 "nbformat_minor": 5
}
